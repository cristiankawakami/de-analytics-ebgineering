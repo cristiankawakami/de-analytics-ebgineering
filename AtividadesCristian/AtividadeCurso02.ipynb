{
 "cells": [
  {
   "cell_type": "markdown",
   "id": "23138ed9",
   "metadata": {},
   "source": [
    "## Atividade 02"
   ]
  },
  {
   "cell_type": "markdown",
   "id": "cbcef764",
   "metadata": {},
   "source": [
    "Vamos praticar a criação de várias expectativas para um dataset público. \n",
    "Para isso, vamos utilizar o dataset Titanic disponível no Kaggle. \n",
    "Este dataset contém informações sobre os passageiros do navio Titanic, incluindo informações como nome, idade, sexo, classe da cabine e se sobreviveram ou não ao naufrágio."
   ]
  },
  {
   "cell_type": "markdown",
   "id": "2faaaa42",
   "metadata": {},
   "source": [
    "### 1. Importando os dados"
   ]
  },
  {
   "cell_type": "markdown",
   "id": "b834df98",
   "metadata": {},
   "source": [
    "1.1 Crie um objeto DataContext"
   ]
  },
  {
   "cell_type": "code",
   "execution_count": 3,
   "id": "7cdcc5e7",
   "metadata": {},
   "outputs": [],
   "source": [
    "import great_expectations as ge\n",
    "import pandas as pd\n",
    "import json\n",
    "\n",
    "context = ge.data_context.DataContext"
   ]
  },
  {
   "cell_type": "markdown",
   "id": "5c8cb693",
   "metadata": {},
   "source": [
    "1.2 Salve o Contexto de Dados no Sistema de Arquivos"
   ]
  },
  {
   "cell_type": "code",
   "execution_count": null,
   "id": "9573da41",
   "metadata": {},
   "outputs": [],
   "source": [
    "\n",
    "with open( \"data/expectations.json\", \"w\") as my_file:\n",
    "    my_file.write(\n",
    "        json.dumps(context.get_expectation_suite().to_json_dict())\n",
    "    )"
   ]
  },
  {
   "cell_type": "markdown",
   "id": "c76e8eed",
   "metadata": {},
   "source": [
    "1.3 Crie um validator e carregue o dataset Titanic: https://storage.googleapis.com/tf-datasets/titanic/train.csv"
   ]
  },
  {
   "cell_type": "code",
   "execution_count": null,
   "id": "98950c89",
   "metadata": {},
   "outputs": [],
   "source": [
    "from great_expectations.dataset import PandasDataset\n",
    "from great_expectations.validator.validator import Validator\n",
    "\n",
    "reference_data = pd.read_csv('train.csv')\n",
    "reference_dataset = PandasDataset(reference_data)\n",
    "\n",
    "validator = Validator(reference_dataset)\n"
   ]
  },
  {
   "cell_type": "markdown",
   "id": "d5730ec2",
   "metadata": {},
   "source": [
    "### 2. Definindo expectativas"
   ]
  },
  {
   "cell_type": "markdown",
   "id": "f547f924",
   "metadata": {},
   "source": [
    "Agora que temos o dataframe, podemos começar a criar expectativas sobre os dados. "
   ]
  },
  {
   "cell_type": "markdown",
   "id": "ec091cea",
   "metadata": {},
   "source": [
    "2.1 Crie uma expectativa que defina que as colunas do dataframe estão na ordem correta. "
   ]
  },
  {
   "cell_type": "code",
   "execution_count": 1,
   "id": "4b0b3fb5",
   "metadata": {},
   "outputs": [
    {
     "data": {
      "text/html": [
       "<div>\n",
       "<style scoped>\n",
       "    .dataframe tbody tr th:only-of-type {\n",
       "        vertical-align: middle;\n",
       "    }\n",
       "\n",
       "    .dataframe tbody tr th {\n",
       "        vertical-align: top;\n",
       "    }\n",
       "\n",
       "    .dataframe thead th {\n",
       "        text-align: right;\n",
       "    }\n",
       "</style>\n",
       "<table border=\"1\" class=\"dataframe\">\n",
       "  <thead>\n",
       "    <tr style=\"text-align: right;\">\n",
       "      <th></th>\n",
       "      <th>survived</th>\n",
       "      <th>sex</th>\n",
       "      <th>age</th>\n",
       "      <th>n_siblings_spouses</th>\n",
       "      <th>parch</th>\n",
       "      <th>fare</th>\n",
       "      <th>class</th>\n",
       "      <th>deck</th>\n",
       "      <th>embark_town</th>\n",
       "      <th>alone</th>\n",
       "    </tr>\n",
       "  </thead>\n",
       "  <tbody>\n",
       "    <tr>\n",
       "      <th>0</th>\n",
       "      <td>0</td>\n",
       "      <td>male</td>\n",
       "      <td>22.0</td>\n",
       "      <td>1</td>\n",
       "      <td>0</td>\n",
       "      <td>7.2500</td>\n",
       "      <td>Third</td>\n",
       "      <td>unknown</td>\n",
       "      <td>Southampton</td>\n",
       "      <td>n</td>\n",
       "    </tr>\n",
       "    <tr>\n",
       "      <th>1</th>\n",
       "      <td>1</td>\n",
       "      <td>female</td>\n",
       "      <td>38.0</td>\n",
       "      <td>1</td>\n",
       "      <td>0</td>\n",
       "      <td>71.2833</td>\n",
       "      <td>First</td>\n",
       "      <td>C</td>\n",
       "      <td>Cherbourg</td>\n",
       "      <td>n</td>\n",
       "    </tr>\n",
       "    <tr>\n",
       "      <th>2</th>\n",
       "      <td>1</td>\n",
       "      <td>female</td>\n",
       "      <td>26.0</td>\n",
       "      <td>0</td>\n",
       "      <td>0</td>\n",
       "      <td>7.9250</td>\n",
       "      <td>Third</td>\n",
       "      <td>unknown</td>\n",
       "      <td>Southampton</td>\n",
       "      <td>y</td>\n",
       "    </tr>\n",
       "    <tr>\n",
       "      <th>3</th>\n",
       "      <td>1</td>\n",
       "      <td>female</td>\n",
       "      <td>35.0</td>\n",
       "      <td>1</td>\n",
       "      <td>0</td>\n",
       "      <td>53.1000</td>\n",
       "      <td>First</td>\n",
       "      <td>C</td>\n",
       "      <td>Southampton</td>\n",
       "      <td>n</td>\n",
       "    </tr>\n",
       "    <tr>\n",
       "      <th>4</th>\n",
       "      <td>0</td>\n",
       "      <td>male</td>\n",
       "      <td>28.0</td>\n",
       "      <td>0</td>\n",
       "      <td>0</td>\n",
       "      <td>8.4583</td>\n",
       "      <td>Third</td>\n",
       "      <td>unknown</td>\n",
       "      <td>Queenstown</td>\n",
       "      <td>y</td>\n",
       "    </tr>\n",
       "  </tbody>\n",
       "</table>\n",
       "</div>"
      ],
      "text/plain": [
       "   survived     sex   age  n_siblings_spouses  parch     fare  class     deck  \\\n",
       "0         0    male  22.0                   1      0   7.2500  Third  unknown   \n",
       "1         1  female  38.0                   1      0  71.2833  First        C   \n",
       "2         1  female  26.0                   0      0   7.9250  Third  unknown   \n",
       "3         1  female  35.0                   1      0  53.1000  First        C   \n",
       "4         0    male  28.0                   0      0   8.4583  Third  unknown   \n",
       "\n",
       "   embark_town alone  \n",
       "0  Southampton     n  \n",
       "1    Cherbourg     n  \n",
       "2  Southampton     y  \n",
       "3  Southampton     n  \n",
       "4   Queenstown     y  "
      ]
     },
     "execution_count": 1,
     "metadata": {},
     "output_type": "execute_result"
    }
   ],
   "source": [
    "import great_expectations as ge\n",
    "import pandas as pd\n",
    "\n",
    "df = ge.read_csv('train.csv')\n",
    "df.head()"
   ]
  },
  {
   "cell_type": "markdown",
   "id": "a1c9913c",
   "metadata": {},
   "source": [
    "2.2 Agora crie uma expectativa para verificar se os valores da coluna \"Survived\" só podem ser 0 ou 1. "
   ]
  },
  {
   "cell_type": "code",
   "execution_count": 2,
   "id": "dd124c39",
   "metadata": {},
   "outputs": [
    {
     "data": {
      "text/plain": [
       "{\n",
       "  \"success\": false,\n",
       "  \"result\": {\n",
       "    \"element_count\": 627,\n",
       "    \"missing_count\": 0,\n",
       "    \"missing_percent\": 0.0,\n",
       "    \"unexpected_count\": 627,\n",
       "    \"unexpected_percent\": 100.0,\n",
       "    \"unexpected_percent_total\": 100.0,\n",
       "    \"unexpected_percent_nonmissing\": 100.0,\n",
       "    \"partial_unexpected_list\": [\n",
       "      0,\n",
       "      1,\n",
       "      1,\n",
       "      1,\n",
       "      0,\n",
       "      0,\n",
       "      1,\n",
       "      1,\n",
       "      1,\n",
       "      0,\n",
       "      0,\n",
       "      0,\n",
       "      0,\n",
       "      1,\n",
       "      0,\n",
       "      1,\n",
       "      0,\n",
       "      1,\n",
       "      1,\n",
       "      0\n",
       "    ]\n",
       "  },\n",
       "  \"exception_info\": {\n",
       "    \"raised_exception\": false,\n",
       "    \"exception_traceback\": null,\n",
       "    \"exception_message\": null\n",
       "  },\n",
       "  \"meta\": {}\n",
       "}"
      ]
     },
     "execution_count": 2,
     "metadata": {},
     "output_type": "execute_result"
    }
   ],
   "source": [
    "df.expect_column_values_to_be_in_set('survived', ['0','1'])"
   ]
  },
  {
   "cell_type": "markdown",
   "id": "b54e26a6",
   "metadata": {},
   "source": [
    "2.3 Defina que a coluna \"Pclass\" só pode ter valores de 1 a 3. "
   ]
  },
  {
   "cell_type": "code",
   "execution_count": null,
   "id": "5599b71c",
   "metadata": {},
   "outputs": [],
   "source": [
    "df.expect_column_values_within_range(column='Pclass', min_value=1, max_value=3)"
   ]
  },
  {
   "cell_type": "markdown",
   "id": "76105e56",
   "metadata": {},
   "source": [
    "2.4 Crie expectativas para verificar se as colunas \"Survived\" e \"Pclass\" existem no dataframe."
   ]
  },
  {
   "cell_type": "code",
   "execution_count": 6,
   "id": "46690b23",
   "metadata": {},
   "outputs": [
    {
     "data": {
      "text/plain": [
       "{\n",
       "  \"success\": true,\n",
       "  \"result\": {},\n",
       "  \"exception_info\": {\n",
       "    \"raised_exception\": false,\n",
       "    \"exception_traceback\": null,\n",
       "    \"exception_message\": null\n",
       "  },\n",
       "  \"meta\": {}\n",
       "}"
      ]
     },
     "execution_count": 6,
     "metadata": {},
     "output_type": "execute_result"
    }
   ],
   "source": [
    "df.expect_column_to_exist(column='survived')"
   ]
  },
  {
   "cell_type": "code",
   "execution_count": 7,
   "id": "2bb696db",
   "metadata": {},
   "outputs": [
    {
     "data": {
      "text/plain": [
       "{\n",
       "  \"success\": false,\n",
       "  \"result\": {},\n",
       "  \"exception_info\": {\n",
       "    \"raised_exception\": false,\n",
       "    \"exception_traceback\": null,\n",
       "    \"exception_message\": null\n",
       "  },\n",
       "  \"meta\": {}\n",
       "}"
      ]
     },
     "execution_count": 7,
     "metadata": {},
     "output_type": "execute_result"
    }
   ],
   "source": [
    "df.expect_column_to_exist(column='Pclass')"
   ]
  },
  {
   "cell_type": "markdown",
   "id": "ae22121f",
   "metadata": {},
   "source": [
    "2.5 Verifique se os valores das colunas \"Age\" e \"Fare\" não são nulos e se estão dentro de um intervalo razoável (0 a 100 para \"Age\" w 0 a 100 para \"Fare\"."
   ]
  },
  {
   "cell_type": "code",
   "execution_count": 12,
   "id": "e0d1c2c6",
   "metadata": {},
   "outputs": [
    {
     "data": {
      "text/plain": [
       "{\n",
       "  \"success\": true,\n",
       "  \"result\": {\n",
       "    \"element_count\": 627,\n",
       "    \"missing_count\": 0,\n",
       "    \"missing_percent\": 0.0,\n",
       "    \"unexpected_count\": 0,\n",
       "    \"unexpected_percent\": 0.0,\n",
       "    \"unexpected_percent_total\": 0.0,\n",
       "    \"unexpected_percent_nonmissing\": 0.0,\n",
       "    \"partial_unexpected_list\": []\n",
       "  },\n",
       "  \"exception_info\": {\n",
       "    \"raised_exception\": false,\n",
       "    \"exception_traceback\": null,\n",
       "    \"exception_message\": null\n",
       "  },\n",
       "  \"meta\": {}\n",
       "}"
      ]
     },
     "execution_count": 12,
     "metadata": {},
     "output_type": "execute_result"
    }
   ],
   "source": [
    "df.expect_column_values_to_be_between(column='age', min_value=0.0, max_value=100.0)"
   ]
  },
  {
   "cell_type": "code",
   "execution_count": 13,
   "id": "0d4a3027",
   "metadata": {},
   "outputs": [
    {
     "data": {
      "text/plain": [
       "{\n",
       "  \"success\": false,\n",
       "  \"result\": {\n",
       "    \"element_count\": 627,\n",
       "    \"missing_count\": 0,\n",
       "    \"missing_percent\": 0.0,\n",
       "    \"unexpected_count\": 43,\n",
       "    \"unexpected_percent\": 6.8580542264752795,\n",
       "    \"unexpected_percent_total\": 6.8580542264752795,\n",
       "    \"unexpected_percent_nonmissing\": 6.8580542264752795,\n",
       "    \"partial_unexpected_list\": [\n",
       "      263.0,\n",
       "      146.5208,\n",
       "      263.0,\n",
       "      247.5208,\n",
       "      146.5208,\n",
       "      113.275,\n",
       "      512.3292,\n",
       "      153.4625,\n",
       "      135.6333,\n",
       "      247.5208,\n",
       "      110.8833,\n",
       "      108.9,\n",
       "      262.375,\n",
       "      164.8667,\n",
       "      134.5,\n",
       "      135.6333,\n",
       "      153.4625,\n",
       "      133.65,\n",
       "      211.5,\n",
       "      227.525\n",
       "    ]\n",
       "  },\n",
       "  \"exception_info\": {\n",
       "    \"raised_exception\": false,\n",
       "    \"exception_traceback\": null,\n",
       "    \"exception_message\": null\n",
       "  },\n",
       "  \"meta\": {}\n",
       "}"
      ]
     },
     "execution_count": 13,
     "metadata": {},
     "output_type": "execute_result"
    }
   ],
   "source": [
    "df.expect_column_values_to_be_between(column='fare', min_value=0.0, max_value=100.0)"
   ]
  },
  {
   "cell_type": "markdown",
   "id": "dbe9d33b",
   "metadata": {},
   "source": [
    "2.6 Define que a coluna \"Sex\" só pode ter os valores \"male\" ou \"female\"."
   ]
  },
  {
   "cell_type": "code",
   "execution_count": 14,
   "id": "42691be5",
   "metadata": {},
   "outputs": [
    {
     "data": {
      "text/plain": [
       "{\n",
       "  \"success\": true,\n",
       "  \"result\": {\n",
       "    \"element_count\": 627,\n",
       "    \"missing_count\": 0,\n",
       "    \"missing_percent\": 0.0,\n",
       "    \"unexpected_count\": 0,\n",
       "    \"unexpected_percent\": 0.0,\n",
       "    \"unexpected_percent_total\": 0.0,\n",
       "    \"unexpected_percent_nonmissing\": 0.0,\n",
       "    \"partial_unexpected_list\": []\n",
       "  },\n",
       "  \"exception_info\": {\n",
       "    \"raised_exception\": false,\n",
       "    \"exception_traceback\": null,\n",
       "    \"exception_message\": null\n",
       "  },\n",
       "  \"meta\": {}\n",
       "}"
      ]
     },
     "execution_count": 14,
     "metadata": {},
     "output_type": "execute_result"
    }
   ],
   "source": [
    "df.expect_column_values_to_be_in_set('sex', ['male','female'])"
   ]
  },
  {
   "cell_type": "markdown",
   "id": "35a0f4be",
   "metadata": {},
   "source": [
    "### 3. Executando as Expectativas"
   ]
  },
  {
   "cell_type": "markdown",
   "id": "6a430083",
   "metadata": {},
   "source": [
    "3.1 Defina um Checkpoint e execute-o para receber os resultados do validator."
   ]
  }
 ],
 "metadata": {
  "kernelspec": {
   "display_name": "Python 3",
   "language": "python",
   "name": "python3"
  },
  "language_info": {
   "codemirror_mode": {
    "name": "ipython",
    "version": 3
   },
   "file_extension": ".py",
   "mimetype": "text/x-python",
   "name": "python",
   "nbconvert_exporter": "python",
   "pygments_lexer": "ipython3",
   "version": "3.9.5"
  }
 },
 "nbformat": 4,
 "nbformat_minor": 5
}
